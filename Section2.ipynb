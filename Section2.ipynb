{
 "cells": [
  {
   "cell_type": "markdown",
   "metadata": {},
   "source": [
    "# 第2章: UNIXコマンドの基礎\n",
    "***\n",
    "hightemp.txtは，日本の最高気温の記録を「都道府県」「地点」「℃」「日」のタブ区切り形式で格納したファイルである．以下の処理を行うプログラムを作成し，hightemp.txtを入力ファイルとして実行せよ．さらに，同様の処理をUNIXコマンドでも実行し，プログラムの実行結果を確認せよ．"
   ]
  },
  {
   "cell_type": "markdown",
   "metadata": {},
   "source": [
    "## 10. 行数のカウント\n",
    "行数をカウントせよ．確認にはwcコマンドを用いよ．"
   ]
  },
  {
   "cell_type": "code",
   "execution_count": 7,
   "metadata": {},
   "outputs": [
    {
     "name": "stdout",
     "output_type": "stream",
     "text": [
      "24\n"
     ]
    }
   ],
   "source": [
    "count = 0\n",
    "with open('hightemp.txt', 'r', encoding=\"utf-8\") as data:\n",
    "    for line in data:\n",
    "        count += 1\n",
    "print(count)"
   ]
  },
  {
   "cell_type": "markdown",
   "metadata": {},
   "source": [
    "### shell\n",
    "`wc --line hightemp.txt`"
   ]
  },
  {
   "cell_type": "markdown",
   "metadata": {},
   "source": [
    "## 11. タブをスペースに置換\n",
    "タブ1文字につきスペース1文字に置換せよ．確認にはsedコマンド，trコマンド，もしくはexpandコマンドを用いよ．"
   ]
  },
  {
   "cell_type": "code",
   "execution_count": 13,
   "metadata": {},
   "outputs": [
    {
     "name": "stdout",
     "output_type": "stream",
     "text": [
      "高知県  江川崎  41  2013-08-12 \n",
      "\n",
      "埼玉県  熊谷    40.9    2007-08-16 \n",
      "\n",
      "岐阜県  多治見  40.9    2007-08-16 \n",
      "\n",
      "山形県  山形    40.8    1933-07-25 \n",
      "\n",
      "山梨県  甲府    40.7    2013-08-10 \n",
      "\n",
      "和歌山県    かつらぎ    40.6    1994-08-08 \n",
      "\n",
      "静岡県  天竜    40.6    1994-08-04 \n",
      "\n",
      "山梨県  勝沼    40.5    2013-08-10 \n",
      "\n",
      "埼玉県  越谷    40.4    2007-08-16 \n",
      "\n",
      "群馬県  館林    40.3    2007-08-16 \n",
      "\n",
      "群馬県  上里見  40.3    1998-07-04 \n",
      "\n",
      "愛知県  愛西    40.3    1994-08-05 \n",
      "\n",
      "千葉県  牛久    40.2    2004-07-20 \n",
      "\n",
      "静岡県  佐久間  40.2    2001-07-24 \n",
      "\n",
      "愛媛県  宇和島  40.2    1927-07-22 \n",
      "\n",
      "山形県  酒田    40.1    1978-08-03 \n",
      "\n",
      "岐阜県  美濃    40  2007-08-16 \n",
      "\n",
      "群馬県  前橋    40  2001-07-24 \n",
      "\n",
      "千葉県  茂原    39.9    2013-08-11 \n",
      "\n",
      "埼玉県  鳩山    39.9    1997-07-05 \n",
      "\n",
      "大阪府  豊中    39.9    1994-08-08 \n",
      "\n",
      "山梨県  大月    39.9    1990-07-19 \n",
      "\n",
      "山形県  鶴岡    39.9    1978-08-03 \n",
      "\n",
      "愛知県  名古屋  39.9    1942-08-02\n",
      "\n"
     ]
    }
   ],
   "source": [
    "with open('hightemp.txt', 'r', encoding='utf-8') as f:\n",
    "    for line in f:\n",
    "        print(line.replace('\\t', \" \"))"
   ]
  },
  {
   "cell_type": "markdown",
   "metadata": {},
   "source": [
    "### shell\n",
    "`cat hightemp.txt |sed 's/\\t/ /g'`"
   ]
  },
  {
   "cell_type": "markdown",
   "metadata": {},
   "source": [
    "## 12. 1列目をcol1.txtに，2列目をcol2.txtに保存\n",
    "各行の1列目だけを抜き出したものをcol1.txtに，2列目だけを抜き出したものをcol2.txtとしてファイルに保存せよ．確認にはcutコマンドを用いよ．"
   ]
  },
  {
   "cell_type": "code",
   "execution_count": 26,
   "metadata": {},
   "outputs": [],
   "source": [
    "count = 1\n",
    "col1 = []\n",
    "col2 = []\n",
    "with open('hightemp.txt', 'r', encoding='utf-8') as f:\n",
    "    f1 = open('col1.txt', 'w')\n",
    "    f2 = open('col2.txt', 'w')\n",
    "    for line in f:\n",
    "        cols = line.split('\\t')\n",
    "        f1.write(cols[0] + '\\n')\n",
    "        f2.write(cols[1] + '\\n')"
   ]
  },
  {
   "cell_type": "markdown",
   "metadata": {},
   "source": [
    "### shell\n",
    "`cut --fields=1 hightemp.txt`  \n",
    "`cut --fields=2 hightemp.txt`"
   ]
  },
  {
   "cell_type": "markdown",
   "metadata": {},
   "source": [
    "## 13. col1.txtとcol2.txtをマージ\n",
    "12で作ったcol1.txtとcol2.txtを結合し，元のファイルの1列目と2列目をタブ区切りで並べたテキストファイルを作成せよ．確認にはpasteコマンドを用いよ．"
   ]
  },
  {
   "cell_type": "code",
   "execution_count": 35,
   "metadata": {},
   "outputs": [
    {
     "name": "stdout",
     "output_type": "stream",
     "text": [
      "高知県\n",
      "\n"
     ]
    },
    {
     "ename": "AttributeError",
     "evalue": "'str' object has no attribute 'readline'",
     "output_type": "error",
     "traceback": [
      "\u001b[1;31m---------------------------------------------------------------------------\u001b[0m",
      "\u001b[1;31mAttributeError\u001b[0m                            Traceback (most recent call last)",
      "\u001b[1;32m<ipython-input-35-87bd31293863>\u001b[0m in \u001b[0;36m<module>\u001b[1;34m()\u001b[0m\n\u001b[0;32m      3\u001b[0m     \u001b[0mprint\u001b[0m\u001b[1;33m(\u001b[0m\u001b[0mf\u001b[0m\u001b[1;33m.\u001b[0m\u001b[0mreadline\u001b[0m\u001b[1;33m(\u001b[0m\u001b[1;33m)\u001b[0m\u001b[1;33m)\u001b[0m\u001b[1;33m\u001b[0m\u001b[0m\n\u001b[0;32m      4\u001b[0m     \u001b[1;32mfor\u001b[0m \u001b[0mline\u001b[0m \u001b[1;32min\u001b[0m \u001b[0mf\u001b[0m\u001b[1;33m:\u001b[0m\u001b[1;33m\u001b[0m\u001b[0m\n\u001b[1;32m----> 5\u001b[1;33m         \u001b[0mprint\u001b[0m\u001b[1;33m(\u001b[0m\u001b[0mline\u001b[0m\u001b[1;33m.\u001b[0m\u001b[0mreadline\u001b[0m\u001b[1;33m(\u001b[0m\u001b[1;33m)\u001b[0m\u001b[1;33m)\u001b[0m\u001b[1;33m\u001b[0m\u001b[0m\n\u001b[0m\u001b[0;32m      6\u001b[0m         \u001b[0mcol1\u001b[0m\u001b[1;33m.\u001b[0m\u001b[0mappend\u001b[0m\u001b[1;33m(\u001b[0m\u001b[0mline\u001b[0m\u001b[1;33m.\u001b[0m\u001b[0mreadline\u001b[0m\u001b[1;33m(\u001b[0m\u001b[1;33m)\u001b[0m\u001b[1;33m)\u001b[0m\u001b[1;33m\u001b[0m\u001b[0m\n\u001b[0;32m      7\u001b[0m \u001b[0mcol2\u001b[0m \u001b[1;33m=\u001b[0m \u001b[1;33m[\u001b[0m\u001b[1;33m]\u001b[0m\u001b[1;33m\u001b[0m\u001b[0m\n",
      "\u001b[1;31mAttributeError\u001b[0m: 'str' object has no attribute 'readline'"
     ]
    }
   ],
   "source": [
    "col1 = []\n",
    "with open('col1.txt', 'r') as f:\n",
    "    print(f.readline())\n",
    "    for line in f:\n",
    "        \n",
    "col2 = []\n",
    "with open('col2.txt', 'r') as f:\n",
    "    for line in f:\n",
    "        col2.append(line)"
   ]
  },
  {
   "cell_type": "code",
   "execution_count": 33,
   "metadata": {},
   "outputs": [
    {
     "data": {
      "text/plain": [
       "[]"
      ]
     },
     "execution_count": 33,
     "metadata": {},
     "output_type": "execute_result"
    }
   ],
   "source": [
    "col1 "
   ]
  },
  {
   "cell_type": "code",
   "execution_count": null,
   "metadata": {},
   "outputs": [],
   "source": []
  }
 ],
 "metadata": {
  "kernelspec": {
   "display_name": "Python 3",
   "language": "python",
   "name": "python3"
  },
  "language_info": {
   "codemirror_mode": {
    "name": "ipython",
    "version": 3
   },
   "file_extension": ".py",
   "mimetype": "text/x-python",
   "name": "python",
   "nbconvert_exporter": "python",
   "pygments_lexer": "ipython3",
   "version": "3.6.4"
  }
 },
 "nbformat": 4,
 "nbformat_minor": 2
}
