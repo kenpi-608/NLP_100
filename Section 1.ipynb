{
 "cells": [
  {
   "cell_type": "markdown",
   "metadata": {},
   "source": [
    "# 1章 準備運動"
   ]
  },
  {
   "cell_type": "markdown",
   "metadata": {},
   "source": [
    "# 00. 文字列の逆順\n",
    "文字列\"stressed\"の文字を逆に（末尾から先頭に向かって）並べた文字列を得よ．"
   ]
  },
  {
   "cell_type": "code",
   "execution_count": 15,
   "metadata": {},
   "outputs": [
    {
     "name": "stdout",
     "output_type": "stream",
     "text": [
      "desserts\n"
     ]
    }
   ],
   "source": [
    "string = [*\"stressed\"]\n",
    "string.reverse()\n",
    "answer = str()\n",
    "for s in string:\n",
    "    answer = answer + s\n",
    "print(answer)"
   ]
  },
  {
   "cell_type": "markdown",
   "metadata": {},
   "source": [
    "### A. スライスをうまく使う\n",
    "- スライスの特徴  \n",
    " `[i:j:k]` では, iが開始位置, jが終わり位置, kがステップ(何個置きにやるか)となる  \n",
    " ちなみに`\"abcde\"`という文字列があると  \n",
    " 0 1 2 3 4 5  \n",
    " |a|b|c|d|e| となっている  \n",
    " k < 0になると\n",
    " `[i:j:k]`とあったときに, 文字列を逆さにしてiが終わり,jが始まりとなる "
   ]
  },
  {
   "cell_type": "code",
   "execution_count": 54,
   "metadata": {},
   "outputs": [
    {
     "name": "stdout",
     "output_type": "stream",
     "text": [
      "a\n",
      "bd\n",
      "ab\n",
      "dcba\n",
      "ed\n",
      "dc\n"
     ]
    }
   ],
   "source": [
    "str1 = \"abcde\"\n",
    "print(str1[0:1])\n",
    "print(str1[1::2])\n",
    "print(str1[0:-3])\n",
    "print(str1[3::-1])\n",
    "print(str1[:2:-1])\n",
    "print(str1[3:1:-1])"
   ]
  },
  {
   "cell_type": "code",
   "execution_count": 16,
   "metadata": {},
   "outputs": [
    {
     "name": "stdout",
     "output_type": "stream",
     "text": [
      "desserts\n"
     ]
    }
   ],
   "source": [
    "string = \"stressed\"\n",
    "answer = string[::-1]\n",
    "print(answer)"
   ]
  },
  {
   "cell_type": "markdown",
   "metadata": {},
   "source": [
    "# 01. 「パタトクカシーー」\n",
    "「パタトクカシーー」という文字列の1,3,5,7文字目を取り出して連結した文字列を得よ"
   ]
  },
  {
   "cell_type": "code",
   "execution_count": 22,
   "metadata": {},
   "outputs": [
    {
     "name": "stdout",
     "output_type": "stream",
     "text": [
      "パトカー\n"
     ]
    }
   ],
   "source": [
    "string = \"パタトクカシーー\"\n",
    "answer = string[0] + string[2] + string[4] + string[6]\n",
    "print(answer)"
   ]
  },
  {
   "cell_type": "markdown",
   "metadata": {},
   "source": [
    "### A. スライス"
   ]
  },
  {
   "cell_type": "code",
   "execution_count": 23,
   "metadata": {},
   "outputs": [
    {
     "name": "stdout",
     "output_type": "stream",
     "text": [
      "パトカー\n"
     ]
    }
   ],
   "source": [
    "string = \"パタトクカシーー\"\n",
    "print(string[::2])"
   ]
  },
  {
   "cell_type": "markdown",
   "metadata": {},
   "source": [
    "# 02. 「パトカー」＋「タクシー」＝「パタトクカシーー」\n",
    "「パトカー」＋「タクシー」の文字を先頭から交互に連結して文字列「パタトクカシーー」を得よ"
   ]
  },
  {
   "cell_type": "code",
   "execution_count": 25,
   "metadata": {},
   "outputs": [
    {
     "name": "stdout",
     "output_type": "stream",
     "text": [
      "パタトクカシーー\n"
     ]
    }
   ],
   "source": [
    "str1 = \"パトカー\"\n",
    "str2 = \"タクシー\"\n",
    "answer = str()\n",
    "for i in range(len(str1)):\n",
    "    answer = answer + str1[i]\n",
    "    answer = answer + str2[i]\n",
    "print(answer)"
   ]
  },
  {
   "cell_type": "markdown",
   "metadata": {},
   "source": [
    "### A. zipを使う"
   ]
  },
  {
   "cell_type": "code",
   "execution_count": 26,
   "metadata": {},
   "outputs": [
    {
     "name": "stdout",
     "output_type": "stream",
     "text": [
      "パタトクカシーー\n"
     ]
    }
   ],
   "source": [
    "str1 = \"パトカー\"\n",
    "str2 = \"タクシー\"\n",
    "answer = ''\n",
    "for (a, b) in zip(str1, str2):\n",
    "    answer += a + b\n",
    "print(answer)"
   ]
  },
  {
   "cell_type": "markdown",
   "metadata": {},
   "source": [
    "# 03. 円周率\n",
    "\"Now I need a drink, alcoholic of course, after the heavy lectures involving quantum mechanics.\"という文を単語に分解し，各単語の（アルファベットの）文字数を先頭から出現順に並べたリストを作成せよ．"
   ]
  },
  {
   "cell_type": "code",
   "execution_count": 55,
   "metadata": {},
   "outputs": [],
   "source": [
    "sentence = \"Now I need a drink, alcoholic of course, after the heavy lectures involving quantum mechanics.\""
   ]
  },
  {
   "cell_type": "code",
   "execution_count": 63,
   "metadata": {},
   "outputs": [],
   "source": [
    "sentence.split(\" \")\n",
    "wordlist = []\n",
    "for i in sentence.split(\" \"):\n",
    "    wordlist.append(len(i) - i.count(',') - i.count('.'))"
   ]
  },
  {
   "cell_type": "code",
   "execution_count": 64,
   "metadata": {},
   "outputs": [
    {
     "data": {
      "text/plain": [
       "[3, 1, 4, 1, 5, 9, 2, 6, 5, 3, 5, 8, 9, 7, 9]"
      ]
     },
     "execution_count": 64,
     "metadata": {},
     "output_type": "execute_result"
    }
   ],
   "source": [
    "wordlist"
   ]
  },
  {
   "cell_type": "markdown",
   "metadata": {},
   "source": [
    "# 04. 元素記号\n",
    "\"Hi He Lied Because Boron Could Not Oxidize Fluorine. New Nations Might Also Sign Peace Security Clause. Arthur King Can.\"という文を単語に分解し，1, 5, 6, 7, 8, 9, 15, 16, 19番目の単語は先頭の1文字，それ以外の単語は先頭に2文字を取り出し，取り出した文字列から単語の位置（先頭から何番目の単語か）への連想配列（辞書型もしくはマップ型）を作成せよ．"
   ]
  },
  {
   "cell_type": "code",
   "execution_count": 66,
   "metadata": {},
   "outputs": [],
   "source": [
    "sentence = \"Hi He Lied Because Boron Could Not Oxidize Fluorine. New Nations Might Also Sign Peace Security Clause. Arthur King Can.\"\n",
    "wordlist = sentence.split(' ')"
   ]
  },
  {
   "cell_type": "code",
   "execution_count": 76,
   "metadata": {},
   "outputs": [],
   "source": [
    "count = 1\n",
    "word = []\n",
    "location = []\n",
    "for i in wordlist:\n",
    "    if count in [1, 5, 6, 7, 8, 9, 15, 16, 19]:\n",
    "        word.append(i[0])\n",
    "    else:\n",
    "        word.append(i[0:2])\n",
    "    location.append(count)\n",
    "    count += 1\n",
    "answer = dict(zip(location, word))"
   ]
  },
  {
   "cell_type": "code",
   "execution_count": 77,
   "metadata": {},
   "outputs": [
    {
     "data": {
      "text/plain": [
       "{1: 'H',\n",
       " 2: 'He',\n",
       " 3: 'Li',\n",
       " 4: 'Be',\n",
       " 5: 'B',\n",
       " 6: 'C',\n",
       " 7: 'N',\n",
       " 8: 'O',\n",
       " 9: 'F',\n",
       " 10: 'Ne',\n",
       " 11: 'Na',\n",
       " 12: 'Mi',\n",
       " 13: 'Al',\n",
       " 14: 'Si',\n",
       " 15: 'P',\n",
       " 16: 'S',\n",
       " 17: 'Cl',\n",
       " 18: 'Ar',\n",
       " 19: 'K',\n",
       " 20: 'Ca'}"
      ]
     },
     "execution_count": 77,
     "metadata": {},
     "output_type": "execute_result"
    }
   ],
   "source": [
    "answer"
   ]
  },
  {
   "cell_type": "markdown",
   "metadata": {},
   "source": [
    "### A. enumerateを使う"
   ]
  },
  {
   "cell_type": "code",
   "execution_count": 80,
   "metadata": {},
   "outputs": [],
   "source": [
    "word = {}\n",
    "for (i, element) in enumerate(wordlist, 1):\n",
    "    if i in [1, 5, 6, 7, 8, 9, 15, 16, 19]:\n",
    "        word[element[0]] = i\n",
    "    else:\n",
    "        word[element[0:2]] = i"
   ]
  },
  {
   "cell_type": "code",
   "execution_count": 81,
   "metadata": {},
   "outputs": [
    {
     "data": {
      "text/plain": [
       "{'Al': 13,\n",
       " 'Ar': 18,\n",
       " 'B': 5,\n",
       " 'Be': 4,\n",
       " 'C': 6,\n",
       " 'Ca': 20,\n",
       " 'Cl': 17,\n",
       " 'F': 9,\n",
       " 'H': 1,\n",
       " 'He': 2,\n",
       " 'K': 19,\n",
       " 'Li': 3,\n",
       " 'Mi': 12,\n",
       " 'N': 7,\n",
       " 'Na': 11,\n",
       " 'Ne': 10,\n",
       " 'O': 8,\n",
       " 'P': 15,\n",
       " 'S': 16,\n",
       " 'Si': 14}"
      ]
     },
     "execution_count": 81,
     "metadata": {},
     "output_type": "execute_result"
    }
   ],
   "source": [
    "word"
   ]
  },
  {
   "cell_type": "markdown",
   "metadata": {},
   "source": [
    "# 05. n-gram\n",
    "与えられたシーケンス（文字列やリストなど）からn-gramを作る関数を作成せよ．この関数を用い，\"I am an NLPer\"という文から単語bi-gram，文字bi-gramを得よ．"
   ]
  },
  {
   "cell_type": "code",
   "execution_count": 92,
   "metadata": {},
   "outputs": [],
   "source": [
    "def n_gram(n, wordlist):\n",
    "    gram = []\n",
    "    for i in range(len(wordlist) - n + 1):\n",
    "        gram.append(wordlist[i:i+n])\n",
    "    return gram"
   ]
  },
  {
   "cell_type": "code",
   "execution_count": 95,
   "metadata": {},
   "outputs": [],
   "source": [
    "string = \"I am an NLPer\"\n",
    "str1 = string.split(' ')\n",
    "word_bi_gram =n_gram(2, str1)"
   ]
  },
  {
   "cell_type": "code",
   "execution_count": 108,
   "metadata": {},
   "outputs": [
    {
     "data": {
      "text/plain": [
       "[['I', 'am'], ['am', 'an'], ['an', 'NLPer']]"
      ]
     },
     "execution_count": 108,
     "metadata": {},
     "output_type": "execute_result"
    }
   ],
   "source": [
    "word_bi_gram"
   ]
  },
  {
   "cell_type": "code",
   "execution_count": 104,
   "metadata": {},
   "outputs": [
    {
     "data": {
      "text/plain": [
       "['I', 'a', 'm', 'a', 'n', 'N', 'L', 'P', 'e', 'r']"
      ]
     },
     "execution_count": 104,
     "metadata": {},
     "output_type": "execute_result"
    }
   ],
   "source": [
    "str2 = string.replace(\" \", \"\")\n",
    "str2 = [*str2]\n",
    "str2"
   ]
  },
  {
   "cell_type": "code",
   "execution_count": 105,
   "metadata": {},
   "outputs": [],
   "source": [
    "char_bi_gram = n_gram(2, str2)"
   ]
  },
  {
   "cell_type": "code",
   "execution_count": 107,
   "metadata": {},
   "outputs": [
    {
     "data": {
      "text/plain": [
       "[['I', 'a'],\n",
       " ['a', 'm'],\n",
       " ['m', 'a'],\n",
       " ['a', 'n'],\n",
       " ['n', 'N'],\n",
       " ['N', 'L'],\n",
       " ['L', 'P'],\n",
       " ['P', 'e'],\n",
       " ['e', 'r']]"
      ]
     },
     "execution_count": 107,
     "metadata": {},
     "output_type": "execute_result"
    }
   ],
   "source": [
    "char_bi_gram"
   ]
  },
  {
   "cell_type": "markdown",
   "metadata": {},
   "source": [
    "# 06. 集合\n",
    "\"paraparaparadise\"と\"paragraph\"に含まれる文字bi-gramの集合を，それぞれ, XとYとして求め，XとYの和集合，積集合，差集合を求めよ．さらに，'se'というbi-gramがXおよびYに含まれるかどうかを調べよ"
   ]
  },
  {
   "cell_type": "code",
   "execution_count": 122,
   "metadata": {},
   "outputs": [
    {
     "name": "stdout",
     "output_type": "stream",
     "text": [
      "X \n",
      " {'is', 'di', 'ap', 'se', 'pa', 'ra', 'ad', 'ar'}\n",
      "Y \n",
      " {'ag', 'gr', 'ph', 'ap', 'pa', 'ra', 'ar'}\n",
      "和集合\n",
      "{'ag', 'gr', 'ph', 'is', 'di', 'ap', 'se', 'pa', 'ra', 'ad', 'ar'}\n",
      "積集合\n",
      "{'is', 'di', 'ad', 'se'}\n",
      "積集合\n",
      "{'ra', 'ap', 'ar', 'pa'}\n",
      "seが含まれるか\n",
      "True\n",
      "False\n"
     ]
    }
   ],
   "source": [
    "str1 = \"paraparaparadise\"\n",
    "str2 = \"paragraph\"\n",
    "char_bi_gram1 = n_gram(2, str1)\n",
    "char_bi_gram2 = n_gram(2, str2)\n",
    "X = set(char_bi_gram1)\n",
    "Y = set(char_bi_gram2)\n",
    "print(\"X \\n\", X)\n",
    "print(\"Y \\n\", Y)\n",
    "print(\"和集合\")\n",
    "print(X | Y)\n",
    "print(\"積集合\")\n",
    "print(X - Y)\n",
    "print(\"積集合\")\n",
    "print(X & Y)\n",
    "print(\"seが含まれるか\")\n",
    "print('se' in X)\n",
    "print('se' in Y)"
   ]
  },
  {
   "cell_type": "markdown",
   "metadata": {},
   "source": [
    "# 07. テンプレートによる文生成\n",
    "引数x, y, zを受け取り「x時のyはz」という文字列を返す関数を実装せよ．さらに，x=12, y=\"気温\", z=22.4として，実行結果を確認せよ．"
   ]
  },
  {
   "cell_type": "code",
   "execution_count": 124,
   "metadata": {},
   "outputs": [],
   "source": [
    "def create_sentence(x, y, z):\n",
    "    '''\n",
    "    引数\n",
    "    x, y, z\n",
    "    戻り値\n",
    "    str型\n",
    "    '''\n",
    "    answer = str(x) + \"時の\" + str(y) + \"は\" + str(z)\n",
    "    return answer"
   ]
  },
  {
   "cell_type": "code",
   "execution_count": 125,
   "metadata": {},
   "outputs": [
    {
     "name": "stdout",
     "output_type": "stream",
     "text": [
      "12時の気温は22.4\n"
     ]
    }
   ],
   "source": [
    "print(create_sentence(12, \"気温\", 22.4))"
   ]
  },
  {
   "cell_type": "markdown",
   "metadata": {},
   "source": [
    "### A. formatを使う"
   ]
  },
  {
   "cell_type": "code",
   "execution_count": 126,
   "metadata": {},
   "outputs": [],
   "source": [
    "def create_sentence(x, y, z):\n",
    "    '''\n",
    "    引数\n",
    "    x, y, z\n",
    "    戻り値\n",
    "    str型\n",
    "    '''\n",
    "    return '{hour}時の{temp}は{value}'.format(hour=x, temp=y, value=z)"
   ]
  },
  {
   "cell_type": "code",
   "execution_count": 127,
   "metadata": {},
   "outputs": [
    {
     "name": "stdout",
     "output_type": "stream",
     "text": [
      "12時の気温は22.4\n"
     ]
    }
   ],
   "source": [
    "print(create_sentence(12,\"気温\", 22.4))"
   ]
  },
  {
   "cell_type": "markdown",
   "metadata": {},
   "source": [
    "# 08. 暗号文\n",
    "与えられた文字列の各文字を，以下の仕様で変換する関数cipherを実装せよ．\n",
    "\n",
    "英小文字ならば(219 - 文字コード)の文字に置換\n",
    "その他の文字はそのまま出力\n",
    "この関数を用い，英語のメッセージを暗号化・復号化せよ．"
   ]
  },
  {
   "cell_type": "markdown",
   "metadata": {},
   "source": [
    "### chr(), ord()を使う\n",
    "- chr(i): 整数iの文字コードに該当する文字を返す\n",
    "- ord(s): 文字sの文字コードを返す"
   ]
  },
  {
   "cell_type": "code",
   "execution_count": 132,
   "metadata": {},
   "outputs": [
    {
     "data": {
      "text/plain": [
       "122"
      ]
     },
     "execution_count": 132,
     "metadata": {},
     "output_type": "execute_result"
    }
   ],
   "source": [
    "ord(\"z\")"
   ]
  },
  {
   "cell_type": "code",
   "execution_count": 156,
   "metadata": {},
   "outputs": [],
   "source": [
    "def cipher(string):\n",
    "    answer = str()\n",
    "    for s in string:\n",
    "        if s.islower():\n",
    "            answer += chr(219 - ord(s))\n",
    "        else:\n",
    "            answer += s\n",
    "    return answer"
   ]
  },
  {
   "cell_type": "code",
   "execution_count": 164,
   "metadata": {},
   "outputs": [
    {
     "name": "stdout",
     "output_type": "stream",
     "text": [
      "元の文字: kenta SuzuKi\n",
      "暗号化: pvmgz SfafKr\n",
      "複合化: kenta SuzuKi\n"
     ]
    }
   ],
   "source": [
    "print(\"元の文字: kenta SuzuKi\")\n",
    "result = cipher(\"kenta SuzuKi\")\n",
    "print(\"暗号化:\", result)\n",
    "result2 = cipher(result)\n",
    "print(\"複合化:\", result2)"
   ]
  },
  {
   "cell_type": "markdown",
   "metadata": {},
   "source": [
    "# 09. Typoglycemia\n",
    "スペースで区切られた単語列に対して，各単語の先頭と末尾の文字は残し，それ以外の文字の順序をランダムに並び替えるプログラムを作成せよ．ただし，長さが４以下の単語は並び替えないこととする．適当な英語の文（例えば\"I couldn't believe that I could actually understand what I was reading : the phenomenal power of the human mind .\"）を与え，その実行結果を確認せよ．"
   ]
  },
  {
   "cell_type": "markdown",
   "metadata": {},
   "source": [
    "### Typoglycemia: 単語の間の文字がばらばらでも読めちゃう現象"
   ]
  },
  {
   "cell_type": "code",
   "execution_count": 192,
   "metadata": {},
   "outputs": [
    {
     "data": {
      "text/plain": [
       "'ten'"
      ]
     },
     "execution_count": 192,
     "metadata": {},
     "output_type": "execute_result"
    }
   ],
   "source": [
    "name = \"kenta\"\n",
    "a = len(name) - 1\n",
    "''.join(random.sample(name[1:a], len(name[1:a])))"
   ]
  },
  {
   "cell_type": "code",
   "execution_count": 198,
   "metadata": {},
   "outputs": [
    {
     "name": "stdout",
     "output_type": "stream",
     "text": [
      "元の文章 \n",
      " I couldn't believe that I could actually understand what I was reading : the phenomenal power of the human mind .\n",
      "変更後 \n",
      " I cn'dulot bvieele that I colud aaclluty unnsrteadd what I was rednaig : the pemnheonal pwoer of the haumn mind .\n"
     ]
    }
   ],
   "source": [
    "string = \"I couldn't believe that I could actually understand what I was reading : the phenomenal power of the human mind .\"\n",
    "slist = string.split(' ')\n",
    "answer = []\n",
    "for s in slist:\n",
    "    if len(s) > 4:\n",
    "        answer.append(s[0] + ''.join(random.sample(s[1:len(s) - 1], len(s[1:len(s) - 1]))) + s[len(s) - 1])\n",
    "    else:\n",
    "        answer.append(s)\n",
    "print(\"元の文章 \\n\", string)\n",
    "print(\"変更後 \\n\", ' '.join(answer))"
   ]
  }
 ],
 "metadata": {
  "kernelspec": {
   "display_name": "Python 3",
   "language": "python",
   "name": "python3"
  },
  "language_info": {
   "codemirror_mode": {
    "name": "ipython",
    "version": 3
   },
   "file_extension": ".py",
   "mimetype": "text/x-python",
   "name": "python",
   "nbconvert_exporter": "python",
   "pygments_lexer": "ipython3",
   "version": "3.6.4"
  }
 },
 "nbformat": 4,
 "nbformat_minor": 2
}
